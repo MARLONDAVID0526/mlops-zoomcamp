{
 "cells": [
  {
   "cell_type": "code",
   "execution_count": 1,
   "id": "2e25cf66",
   "metadata": {},
   "outputs": [],
   "source": [
    "import os\n",
    "import uuid\n",
    "import pickle\n",
    "\n",
    "import pandas as pd\n",
    "\n",
    "import mlflow\n",
    "\n",
    "from sklearn.feature_extraction import DictVectorizer\n",
    "from sklearn.ensemble import RandomForestRegressor\n",
    "from sklearn.metrics import mean_squared_error\n",
    "from sklearn.pipeline import make_pipeline"
   ]
  },
  {
   "cell_type": "code",
   "execution_count": 2,
   "id": "602573d5",
   "metadata": {},
   "outputs": [
    {
     "name": "stderr",
     "output_type": "stream",
     "text": [
      "2023/06/24 11:50:50 WARNING mlflow.pyfunc: Detected one or more mismatches between the model's dependencies and the current Python environment:\n",
      " - mlflow (current: 2.4.1, required: mlflow==2.4)\n",
      "To fix the mismatches, call `mlflow.pyfunc.get_model_dependencies(model_uri)` to fetch the model's environment and install dependencies using the resulting environment file.\n"
     ]
    },
    {
     "data": {
      "text/plain": [
       "mlflow.pyfunc.loaded_model:\n",
       "  artifact_path: model\n",
       "  flavor: mlflow.sklearn\n",
       "  run_id: 89c225272dff4b27ade2376ed4b65965"
      ]
     },
     "execution_count": 2,
     "metadata": {},
     "output_type": "execute_result"
    }
   ],
   "source": [
    "RUN_ID = os.getenv('RUN_ID', '89c225272dff4b27ade2376ed4b65965')\n",
    "\n",
    "logged_model = f's3://zoomcamp-mlops-2023-marlon/2/89c225272dff4b27ade2376ed4b65965/artifacts/model'\n",
    "model = mlflow.pyfunc.load_model(logged_model)\n",
    "\n",
    "model"
   ]
  },
  {
   "cell_type": "code",
   "execution_count": 17,
   "id": "5887deea",
   "metadata": {},
   "outputs": [],
   "source": [
    "year = 2021\n",
    "month = 3\n",
    "taxi_type = 'green'\n",
    "\n",
    "input_file = f'https://d37ci6vzurychx.cloudfront.net/trip-data/{taxi_type}_tripdata_{year:04d}-{month:02d}.parquet'\n",
    "\n",
    "output_file = f'output/{taxi_type}/{year:04d}-{month:02d}.parquet'\n",
    "\n",
    "RUN_ID = os.getenv('RUN_ID', '89c225272dff4b27ade2376ed4b65965')\n"
   ]
  },
  {
   "cell_type": "code",
   "execution_count": 4,
   "id": "b9666e19",
   "metadata": {},
   "outputs": [],
   "source": [
    "def generate_uuids(n):\n",
    "    ride_ids = []\n",
    "    for i in range(n):\n",
    "        ride_ids.append(str(uuid.uuid4()))\n",
    "    return ride_ids\n",
    "\n",
    "def read_dataframe(filename: str):\n",
    "    df = pd.read_parquet(filename)\n",
    "\n",
    "    df['duration'] = df.lpep_dropoff_datetime - df.lpep_pickup_datetime\n",
    "    df.duration = df.duration.dt.total_seconds() / 60\n",
    "    df = df[(df.duration >= 1) & (df.duration <= 60)]\n",
    "    \n",
    "    df['ride_id'] = generate_uuids(len(df))\n",
    "\n",
    "    return df\n",
    "\n",
    "\n",
    "def prepare_dictionaries(df: pd.DataFrame):\n",
    "    categorical = ['PULocationID', 'DOLocationID']\n",
    "    df[categorical] = df[categorical].astype(str)\n",
    "    \n",
    "    df['PU_DO'] = df['PULocationID'] + '_' + df['DOLocationID']\n",
    "\n",
    "    categorical = ['PU_DO']\n",
    "    numerical = ['trip_distance']\n",
    "    dicts = df[categorical + numerical].to_dict(orient='records')\n",
    "    return dicts"
   ]
  },
  {
   "cell_type": "code",
   "execution_count": 8,
   "id": "6b5f0d80",
   "metadata": {},
   "outputs": [],
   "source": [
    "def load_model(run_id):\n",
    "    logged_model = f's3://zoomcamp-mlops-2023-marlon/2/{RUN_ID}/artifacts/model'\n",
    "    model = mlflow.pyfunc.load_model(logged_model)\n",
    "    return model\n",
    "\n",
    "\n",
    "def apply_model(input_file, run_id, output_file):\n",
    "\n",
    "    df = read_dataframe(input_file)\n",
    "    dicts = prepare_dictionaries(df)\n",
    "\n",
    "    \n",
    "    model = load_model(run_id)\n",
    "    y_pred = model.predict(dicts)\n",
    "\n",
    "    df_result = pd.DataFrame()\n",
    "    df_result['ride_id'] = df['ride_id']\n",
    "    df_result['lpep_pickup_datetime'] = df['lpep_pickup_datetime']\n",
    "    df_result['PULocationID'] = df['PULocationID']\n",
    "    df_result['DOLocationID'] = df['DOLocationID']\n",
    "    df_result['actual_duration'] = df['duration']\n",
    "    df_result['predicted_duration'] = y_pred\n",
    "    df_result['diff'] = df_result['actual_duration'] - df_result['predicted_duration']\n",
    "    df_result['model_version'] = run_id\n",
    "    \n",
    "    df_result.to_parquet(output_file, index=False)"
   ]
  },
  {
   "cell_type": "code",
   "execution_count": 14,
   "id": "003378a8",
   "metadata": {},
   "outputs": [],
   "source": [
    "!mkdir output/green\n"
   ]
  },
  {
   "cell_type": "code",
   "execution_count": 18,
   "id": "cc2899e7",
   "metadata": {},
   "outputs": [
    {
     "name": "stderr",
     "output_type": "stream",
     "text": [
      "2023/06/24 11:57:40 WARNING mlflow.pyfunc: Detected one or more mismatches between the model's dependencies and the current Python environment:\n",
      " - mlflow (current: 2.4.1, required: mlflow==2.4)\n",
      "To fix the mismatches, call `mlflow.pyfunc.get_model_dependencies(model_uri)` to fetch the model's environment and install dependencies using the resulting environment file.\n"
     ]
    }
   ],
   "source": [
    "apply_model(input_file=input_file, run_id=RUN_ID, output_file=output_file)"
   ]
  },
  {
   "cell_type": "code",
   "execution_count": 16,
   "id": "b75bd6c9",
   "metadata": {},
   "outputs": [
    {
     "name": "stdout",
     "output_type": "stream",
     "text": [
      "2021-02.parquet\r\n"
     ]
    }
   ],
   "source": [
    "!ls output/green/"
   ]
  },
  {
   "cell_type": "code",
   "execution_count": null,
   "id": "40a8baa6",
   "metadata": {},
   "outputs": [],
   "source": []
  }
 ],
 "metadata": {
  "kernelspec": {
   "display_name": "Python 3 (ipykernel)",
   "language": "python",
   "name": "python3"
  },
  "language_info": {
   "codemirror_mode": {
    "name": "ipython",
    "version": 3
   },
   "file_extension": ".py",
   "mimetype": "text/x-python",
   "name": "python",
   "nbconvert_exporter": "python",
   "pygments_lexer": "ipython3",
   "version": "3.9.12"
  }
 },
 "nbformat": 4,
 "nbformat_minor": 5
}
